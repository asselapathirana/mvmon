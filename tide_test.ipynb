{
 "cells": [
  {
   "cell_type": "code",
   "execution_count": 34,
   "metadata": {},
   "outputs": [],
   "source": [
    "from matplotlib import pyplot as plt\n",
    "import pandas as pd\n"
   ]
  },
  {
   "cell_type": "code",
   "execution_count": 35,
   "metadata": {},
   "outputs": [
    {
     "data": {
      "text/plain": [
       "Index(['index', 'REC_TIME', 'UNIT_ID', 'H1', 'H0', 'V', 'T0', 'T1', 'C1',\n",
       "       'ERR', 'H2', 'T2', 'R', 'Rr', 'L0', 'L1'],\n",
       "      dtype='object')"
      ]
     },
     "execution_count": 35,
     "metadata": {},
     "output_type": "execute_result"
    }
   ],
   "source": [
    "df=pd.read_pickle('./data/all_stations_data.pkl').reset_index()\n",
    "df.columns"
   ]
  },
  {
   "cell_type": "code",
   "execution_count": 36,
   "metadata": {},
   "outputs": [
    {
     "data": {
      "text/plain": [
       "array(['A01', nan, 'A02', 'A03', 'A04', 'A05', 'A06', 'A07', 'A08', 'L20',\n",
       "       'L21'], dtype=object)"
      ]
     },
     "execution_count": 36,
     "metadata": {},
     "output_type": "execute_result"
    }
   ],
   "source": [
    "# print unique UNIT_ID values\n",
    "df['UNIT_ID'].unique()"
   ]
  },
  {
   "cell_type": "code",
   "execution_count": 53,
   "metadata": {},
   "outputs": [
    {
     "data": {
      "text/html": [
       "<div>\n",
       "<style scoped>\n",
       "    .dataframe tbody tr th:only-of-type {\n",
       "        vertical-align: middle;\n",
       "    }\n",
       "\n",
       "    .dataframe tbody tr th {\n",
       "        vertical-align: top;\n",
       "    }\n",
       "\n",
       "    .dataframe thead th {\n",
       "        text-align: right;\n",
       "    }\n",
       "</style>\n",
       "<table border=\"1\" class=\"dataframe\">\n",
       "  <thead>\n",
       "    <tr style=\"text-align: right;\">\n",
       "      <th></th>\n",
       "      <th>REC_TIME</th>\n",
       "      <th>L0</th>\n",
       "    </tr>\n",
       "  </thead>\n",
       "  <tbody>\n",
       "    <tr>\n",
       "      <th>23003</th>\n",
       "      <td>2023-06-18 01:00:00</td>\n",
       "      <td>4.995</td>\n",
       "    </tr>\n",
       "    <tr>\n",
       "      <th>23004</th>\n",
       "      <td>2023-06-18 02:00:00</td>\n",
       "      <td>4.970</td>\n",
       "    </tr>\n",
       "    <tr>\n",
       "      <th>23005</th>\n",
       "      <td>2023-06-18 03:00:00</td>\n",
       "      <td>4.863</td>\n",
       "    </tr>\n",
       "    <tr>\n",
       "      <th>23006</th>\n",
       "      <td>2023-06-18 04:00:00</td>\n",
       "      <td>4.697</td>\n",
       "    </tr>\n",
       "    <tr>\n",
       "      <th>23007</th>\n",
       "      <td>2023-06-18 05:00:00</td>\n",
       "      <td>4.490</td>\n",
       "    </tr>\n",
       "    <tr>\n",
       "      <th>...</th>\n",
       "      <td>...</td>\n",
       "      <td>...</td>\n",
       "    </tr>\n",
       "    <tr>\n",
       "      <th>60451</th>\n",
       "      <td>2024-03-08 11:00:00</td>\n",
       "      <td>1.939</td>\n",
       "    </tr>\n",
       "    <tr>\n",
       "      <th>49925</th>\n",
       "      <td>2024-03-08 11:00:00</td>\n",
       "      <td>1.939</td>\n",
       "    </tr>\n",
       "    <tr>\n",
       "      <th>49118</th>\n",
       "      <td>2024-03-08 11:00:00</td>\n",
       "      <td>1.939</td>\n",
       "    </tr>\n",
       "    <tr>\n",
       "      <th>57649</th>\n",
       "      <td>2024-03-08 12:00:00</td>\n",
       "      <td>2.029</td>\n",
       "    </tr>\n",
       "    <tr>\n",
       "      <th>60452</th>\n",
       "      <td>2024-03-08 12:00:00</td>\n",
       "      <td>2.029</td>\n",
       "    </tr>\n",
       "  </tbody>\n",
       "</table>\n",
       "<p>19440 rows × 2 columns</p>\n",
       "</div>"
      ],
      "text/plain": [
       "                 REC_TIME     L0\n",
       "23003 2023-06-18 01:00:00  4.995\n",
       "23004 2023-06-18 02:00:00  4.970\n",
       "23005 2023-06-18 03:00:00  4.863\n",
       "23006 2023-06-18 04:00:00  4.697\n",
       "23007 2023-06-18 05:00:00  4.490\n",
       "...                   ...    ...\n",
       "60451 2024-03-08 11:00:00  1.939\n",
       "49925 2024-03-08 11:00:00  1.939\n",
       "49118 2024-03-08 11:00:00  1.939\n",
       "57649 2024-03-08 12:00:00  2.029\n",
       "60452 2024-03-08 12:00:00  2.029\n",
       "\n",
       "[19440 rows x 2 columns]"
      ]
     },
     "execution_count": 53,
     "metadata": {},
     "output_type": "execute_result"
    },
    {
     "data": {
      "image/png": "[encoded data removed]",
      "text/plain": [
       "<Figure size 640x480 with 1 Axes>"
      ]
     },
     "metadata": {},
     "output_type": "display_data"
    }
   ],
   "source": [
    "# sort df first by UNIT_ID and then by REC_TIME\n",
    "#df.sort_values(by=['REC_TIME'],inplace=True)\n",
    "df_=df[df['UNIT_ID']=='L20'][['REC_TIME','L0']]\n",
    "# sort by REC_TIME\n",
    "# select rows with LO is not null\n",
    "df_=df_[df_['L0'].notnull()]\n",
    "df_=df_.sort_values(by='REC_TIME')\n",
    "#df_=df_[-5000:]\n",
    "# plot\n",
    "plt.plot(df_['REC_TIME'],df_['L0'])\n",
    "\n",
    "df_\n"
   ]
  },
  {
   "cell_type": "code",
   "execution_count": null,
   "metadata": {},
   "outputs": [],
   "source": []
  }
 ],
 "metadata": {
  "kernelspec": {
   "display_name": "Python 3",
   "language": "python",
   "name": "python3"
  },
  "language_info": {
   "codemirror_mode": {
    "name": "ipython",
    "version": 3
   },
   "file_extension": ".py",
   "mimetype": "text/x-python",
   "name": "python",
   "nbconvert_exporter": "python",
   "pygments_lexer": "ipython3",
   "version": "3.11.5"
  }
 },
 "nbformat": 4,
 "nbformat_minor": 2
}
